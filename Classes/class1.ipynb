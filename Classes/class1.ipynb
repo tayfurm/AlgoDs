{
 "cells": [
  {
   "cell_type": "code",
   "execution_count": 1,
   "id": "9dda3679",
   "metadata": {},
   "outputs": [],
   "source": [
    "# create any class\n",
    "\n",
    "class Dog:\n",
    "    species = \"it\"\n",
    "    def __init__(self, name = \"Lil doggy\"):\n",
    "        self.name = name\n",
    "\n",
    "\n",
    "    def bark(self):\n",
    "        print(f\"{self.name} says Woof!\")\n"
   ]
  },
  {
   "cell_type": "code",
   "execution_count": null,
   "id": "7a38fc11",
   "metadata": {},
   "outputs": [
    {
     "name": "stdout",
     "output_type": "stream",
     "text": [
      "Bob says Woof!\n",
      "Lil doggy says Woof!\n"
     ]
    }
   ],
   "source": [
    "# Use a function outside of class\n",
    "\n",
    "d = Dog(\"Bob\")\n",
    "d.bark()\n",
    "\n",
    "d2 = Dog()\n",
    "d2.bark()"
   ]
  },
  {
   "cell_type": "code",
   "execution_count": 2,
   "id": "498aeb45",
   "metadata": {},
   "outputs": [
    {
     "name": "stdout",
     "output_type": "stream",
     "text": [
      "Its species is it\n"
     ]
    }
   ],
   "source": [
    "# use of class variables\n",
    "d4 = Dog()\n",
    "print(\"Its species is\", d4.species)"
   ]
  },
  {
   "cell_type": "code",
   "execution_count": null,
   "id": "599b4af3",
   "metadata": {},
   "outputs": [],
   "source": [
    "# inheritance\n",
    "class Animal:\n",
    "    species = \"Animal\"\n",
    "    def __init__(self, name):\n",
    "        self.name = name\n",
    "\n",
    "    def makeSound(self):\n",
    "        print(\"Generic Sound\")\n",
    "\n",
    "class Cat(Animal):\n",
    "    species = \"Felix\"\n",
    "    meowCount = 0\n",
    "    def __init__(self, name, isHouseCat = False):\n",
    "        super().__init__(name)\n",
    "        self.isHouseCat = isHouseCat\n",
    "\n",
    "    def makeSound(self):\n",
    "        Cat.meowCount += 1\n",
    "        print(\"Meow\", \"because it is a\", self.species)\n",
    "        print(f\"For the {meowCount}th time\")\n",
    "        \n"
   ]
  },
  {
   "cell_type": "code",
   "execution_count": 38,
   "id": "00d90e19",
   "metadata": {},
   "outputs": [
    {
     "ename": "UnboundLocalError",
     "evalue": "cannot access local variable 'meowCount' where it is not associated with a value",
     "output_type": "error",
     "traceback": [
      "\u001b[31m---------------------------------------------------------------------------\u001b[39m",
      "\u001b[31mUnboundLocalError\u001b[39m                         Traceback (most recent call last)",
      "\u001b[36mCell\u001b[39m\u001b[36m \u001b[39m\u001b[32mIn[38]\u001b[39m\u001b[32m, line 2\u001b[39m\n\u001b[32m      1\u001b[39m c = Cat(\u001b[33m\"\u001b[39m\u001b[33mTakir\u001b[39m\u001b[33m\"\u001b[39m)\n\u001b[32m----> \u001b[39m\u001b[32m2\u001b[39m \u001b[43mc\u001b[49m\u001b[43m.\u001b[49m\u001b[43mmakeSound\u001b[49m\u001b[43m(\u001b[49m\u001b[43m)\u001b[49m\n\u001b[32m      3\u001b[39m c2 = Cat(\u001b[33m\"\u001b[39m\u001b[33mSakir\u001b[39m\u001b[33m\"\u001b[39m)\n\u001b[32m      4\u001b[39m c2.makeSound()\n",
      "\u001b[36mCell\u001b[39m\u001b[36m \u001b[39m\u001b[32mIn[37]\u001b[39m\u001b[32m, line 18\u001b[39m, in \u001b[36mCat.makeSound\u001b[39m\u001b[34m(self)\u001b[39m\n\u001b[32m     17\u001b[39m \u001b[38;5;28;01mdef\u001b[39;00m\u001b[38;5;250m \u001b[39m\u001b[34mmakeSound\u001b[39m(\u001b[38;5;28mself\u001b[39m):\n\u001b[32m---> \u001b[39m\u001b[32m18\u001b[39m     \u001b[43mmeowCount\u001b[49m += \u001b[32m1\u001b[39m\n\u001b[32m     19\u001b[39m     \u001b[38;5;28mprint\u001b[39m(\u001b[33m\"\u001b[39m\u001b[33mMeow\u001b[39m\u001b[33m\"\u001b[39m, \u001b[33m\"\u001b[39m\u001b[33mbecause it is a\u001b[39m\u001b[33m\"\u001b[39m, \u001b[38;5;28mself\u001b[39m.species)\n\u001b[32m     20\u001b[39m     \u001b[38;5;28mprint\u001b[39m(\u001b[33mf\u001b[39m\u001b[33m\"\u001b[39m\u001b[33mFor the \u001b[39m\u001b[38;5;132;01m{\u001b[39;00mmeowCount\u001b[38;5;132;01m}\u001b[39;00m\u001b[33mth time\u001b[39m\u001b[33m\"\u001b[39m)\n",
      "\u001b[31mUnboundLocalError\u001b[39m: cannot access local variable 'meowCount' where it is not associated with a value"
     ]
    }
   ],
   "source": [
    "c = Cat(\"Takir\")\n",
    "c.makeSound()\n",
    "c2 = Cat(\"Sakir\")\n",
    "c2.makeSound()"
   ]
  },
  {
   "cell_type": "code",
   "execution_count": null,
   "id": "8974a9d9",
   "metadata": {},
   "outputs": [],
   "source": []
  }
 ],
 "metadata": {
  "kernelspec": {
   "display_name": ".venv",
   "language": "python",
   "name": "python3"
  },
  "language_info": {
   "codemirror_mode": {
    "name": "ipython",
    "version": 3
   },
   "file_extension": ".py",
   "mimetype": "text/x-python",
   "name": "python",
   "nbconvert_exporter": "python",
   "pygments_lexer": "ipython3",
   "version": "3.11.9"
  }
 },
 "nbformat": 4,
 "nbformat_minor": 5
}
