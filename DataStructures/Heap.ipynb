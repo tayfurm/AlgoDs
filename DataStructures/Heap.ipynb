{
 "cells": [
  {
   "cell_type": "code",
   "execution_count": null,
   "id": "c88a653c",
   "metadata": {},
   "outputs": [],
   "source": [
    "import heapq\n",
    "import random\n",
    "\n",
    "heap = []"
   ]
  },
  {
   "cell_type": "code",
   "execution_count": null,
   "id": "6127aa8c",
   "metadata": {},
   "outputs": [
    {
     "name": "stdout",
     "output_type": "stream",
     "text": [
      "31  is added to the heap\n",
      "Heap: [8, 29, 22, 41, 40, 54, 23, 74, 65, 87, 73, 56, 66, 50, 31]\n"
     ]
    }
   ],
   "source": [
    "# add data to heap\n",
    "newData = random.randint(0,100)\n",
    "heapq.heappush(heap, newData)\n",
    "print(newData, \"is added to the heap\")\n",
    "print(\"Heap:\", heap)"
   ]
  },
  {
   "cell_type": "code",
   "execution_count": 23,
   "id": "6bc7dc44",
   "metadata": {},
   "outputs": [
    {
     "name": "stdout",
     "output_type": "stream",
     "text": [
      "31 was the min element\n",
      "Heap: [40, 41, 50, 65, 66, 54, 56, 74, 73, 87]\n"
     ]
    }
   ],
   "source": [
    "#remove the top element of the heap\n",
    "print(heap[0], \"was the min element\")\n",
    "min = heapq.heappop(heap)\n",
    "print(\"Heap:\", heap)"
   ]
  },
  {
   "cell_type": "code",
   "execution_count": 24,
   "id": "30aeedd9",
   "metadata": {},
   "outputs": [
    {
     "name": "stdout",
     "output_type": "stream",
     "text": [
      "list before heapify: [93, 81, 64, 27, 40, 54, 77, 97, 24, 38]\n",
      "list after heapify [24, 27, 54, 81, 38, 64, 77, 97, 93, 40]\n"
     ]
    }
   ],
   "source": [
    "#Heapify a list\n",
    "list = [random.randint(0,100) for i in range(10)]\n",
    "print(\"list before heapify:\", list)\n",
    "heapq.heapify(list)\n",
    "print(\"list after heapify\", list)\n"
   ]
  }
 ],
 "metadata": {
  "kernelspec": {
   "display_name": ".venv",
   "language": "python",
   "name": "python3"
  },
  "language_info": {
   "codemirror_mode": {
    "name": "ipython",
    "version": 3
   },
   "file_extension": ".py",
   "mimetype": "text/x-python",
   "name": "python",
   "nbconvert_exporter": "python",
   "pygments_lexer": "ipython3",
   "version": "3.11.9"
  }
 },
 "nbformat": 4,
 "nbformat_minor": 5
}
