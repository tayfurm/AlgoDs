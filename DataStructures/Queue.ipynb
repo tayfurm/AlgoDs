{
 "cells": [
  {
   "cell_type": "code",
   "execution_count": null,
   "id": "a3f69198",
   "metadata": {},
   "outputs": [],
   "source": [
    "from collections import deque\n",
    "q = deque()\n",
    "data = 0"
   ]
  },
  {
   "cell_type": "code",
   "execution_count": null,
   "id": "c3ba445a",
   "metadata": {},
   "outputs": [],
   "source": [
    "# Add items\n",
    "q.append(data)\n",
    "data += 1"
   ]
  },
  {
   "cell_type": "code",
   "execution_count": 29,
   "id": "659ebcf9",
   "metadata": {},
   "outputs": [
    {
     "name": "stdout",
     "output_type": "stream",
     "text": [
      "4\n"
     ]
    }
   ],
   "source": [
    "# remove Items and print\n",
    "while q:\n",
    "    print(q.popleft())"
   ]
  },
  {
   "cell_type": "code",
   "execution_count": 28,
   "id": "4d5f5b74",
   "metadata": {},
   "outputs": [
    {
     "name": "stdout",
     "output_type": "stream",
     "text": [
      "size: 1\n",
      "Is Empty: No\n"
     ]
    }
   ],
   "source": [
    "# get the size and is empty status\n",
    "print(\"size:\", len(q))\n",
    "print(\"Is Empty:\", \"No\" if q else \"Yes\")"
   ]
  }
 ],
 "metadata": {
  "kernelspec": {
   "display_name": ".venv",
   "language": "python",
   "name": "python3"
  },
  "language_info": {
   "codemirror_mode": {
    "name": "ipython",
    "version": 3
   },
   "file_extension": ".py",
   "mimetype": "text/x-python",
   "name": "python",
   "nbconvert_exporter": "python",
   "pygments_lexer": "ipython3",
   "version": "3.11.9"
  }
 },
 "nbformat": 4,
 "nbformat_minor": 5
}
