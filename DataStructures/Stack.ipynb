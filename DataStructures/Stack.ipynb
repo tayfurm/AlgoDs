{
 "cells": [
  {
   "cell_type": "code",
   "execution_count": 3,
   "id": "13810276",
   "metadata": {},
   "outputs": [],
   "source": [
    "from collections import deque\n",
    "\n",
    "stack = deque()\n",
    "data = 0"
   ]
  },
  {
   "cell_type": "code",
   "execution_count": 11,
   "id": "36e743da",
   "metadata": {},
   "outputs": [],
   "source": [
    "#add element\n",
    "stack.append(data)\n",
    "data += 1"
   ]
  },
  {
   "cell_type": "code",
   "execution_count": 13,
   "id": "f1f353e5",
   "metadata": {},
   "outputs": [
    {
     "name": "stdout",
     "output_type": "stream",
     "text": [
      "4\n",
      "3\n",
      "2\n",
      "1\n"
     ]
    }
   ],
   "source": [
    "# remove and print all elements\n",
    "\n",
    "while stack:\n",
    "    print(stack.pop())"
   ]
  },
  {
   "cell_type": "code",
   "execution_count": 14,
   "id": "910dca66",
   "metadata": {},
   "outputs": [
    {
     "name": "stdout",
     "output_type": "stream",
     "text": [
      "Size: 0\n",
      "Is Empty: Yes\n"
     ]
    }
   ],
   "source": [
    "print(\"Size:\", len(stack))\n",
    "print(\"Is Empty:\", \"No\" if stack else \"Yes\")"
   ]
  }
 ],
 "metadata": {
  "kernelspec": {
   "display_name": ".venv",
   "language": "python",
   "name": "python3"
  },
  "language_info": {
   "codemirror_mode": {
    "name": "ipython",
    "version": 3
   },
   "file_extension": ".py",
   "mimetype": "text/x-python",
   "name": "python",
   "nbconvert_exporter": "python",
   "pygments_lexer": "ipython3",
   "version": "3.11.9"
  }
 },
 "nbformat": 4,
 "nbformat_minor": 5
}
