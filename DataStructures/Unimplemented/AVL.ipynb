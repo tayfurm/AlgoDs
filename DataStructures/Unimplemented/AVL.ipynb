{
 "cells": [
  {
   "cell_type": "code",
   "execution_count": null,
   "id": "d1834a8e",
   "metadata": {},
   "outputs": [],
   "source": [
    "from_oldest = sorted(people, key = lambda person: person[\"age\"], reverse=True)\n",
    "print(\"Sorted by age (from oldest to youngest):\")\n",
    "for person in from_oldest:\n",
    "    print(f\"{person['name']} is {person['age']} years old.\")"
   ]
  }
 ],
 "metadata": {
  "language_info": {
   "name": "python"
  }
 },
 "nbformat": 4,
 "nbformat_minor": 5
}
