{
 "cells": [
  {
   "cell_type": "markdown",
   "id": "f542286e",
   "metadata": {},
   "source": [
    "# Use following sometime"
   ]
  },
  {
   "cell_type": "markdown",
   "id": "533f5d2d",
   "metadata": {},
   "source": []
  }
 ],
 "metadata": {
  "language_info": {
   "name": "python"
  }
 },
 "nbformat": 4,
 "nbformat_minor": 5
}
