{
 "cells": [
  {
   "cell_type": "code",
   "execution_count": 16,
   "id": "3c6ed108",
   "metadata": {},
   "outputs": [
    {
     "name": "stdout",
     "output_type": "stream",
     "text": [
      "Execution time: 0.2101 seconds\n"
     ]
    }
   ],
   "source": [
    "import time\n",
    "\n",
    "rng = range(10_000_000)\n",
    "start = time.perf_counter()\n",
    "\n",
    "\n",
    "# Code to benchmark\n",
    "result = sum(rng)\n",
    "end = time.perf_counter()\n",
    "\n",
    "print(f\"Execution time: {end - start:.4f} seconds\")\n"
   ]
  },
  {
   "cell_type": "code",
   "execution_count": 23,
   "id": "e29c3181",
   "metadata": {},
   "outputs": [
    {
     "name": "stdout",
     "output_type": "stream",
     "text": [
      " Adding just variable Execution time: 0.3560 seconds\n",
      "By array module Execution time: 0.5522 seconds\n",
      "By Bytearray Execution time: 0.3758 seconds\n",
      "Numpy array Execution time: 0.6429 seconds\n",
      "by List Execution time: 0.3361 seconds\n"
     ]
    }
   ],
   "source": [
    "val = 0\n",
    "\n",
    "start = time.perf_counter()\n",
    "# Code to benchmark\n",
    "for i in rng:\n",
    "    val = i\n",
    "end = time.perf_counter()\n",
    "\n",
    "print(f\" Adding just variable Execution time: {end - start:.4f} seconds\")\n",
    "\n",
    "import array\n",
    "\n",
    "\n",
    "arr = array.array('i', [1]) # 'i' = signed int\n",
    "\n",
    "start = time.perf_counter()\n",
    "# Code to benchmark\n",
    "for i in rng:\n",
    "    arr[0] = i\n",
    "end = time.perf_counter()\n",
    "\n",
    "print(f\"By array module Execution time: {end - start:.4f} seconds\")\n",
    "\n",
    "\n",
    "arr = bytearray(b\"a\")\n",
    "\n",
    "start = time.perf_counter()\n",
    "# Code to benchmark\n",
    "for i in rng:\n",
    "    arr[0] = 2\n",
    "end = time.perf_counter()\n",
    "\n",
    "print(f\"By Bytearray Execution time: {end - start:.4f} seconds\")\n",
    "\n",
    "import numpy as np\n",
    "arr = np.array([0], dtype = np.int32)\n",
    "\n",
    "start = time.perf_counter()\n",
    "# Code to benchmark\n",
    "for i in rng:\n",
    "    arr[0] = i\n",
    "end = time.perf_counter()\n",
    "\n",
    "print(f\"Numpy array Execution time: {end - start:.4f} seconds\")\n",
    "\n",
    "\n",
    "arr = [0]\n",
    "\n",
    "start = time.perf_counter()\n",
    "# Code to benchmark\n",
    "for i in rng:\n",
    "    arr[0] = i\n",
    "end = time.perf_counter()\n",
    "\n",
    "print(f\"by List Execution time: {end - start:.4f} seconds\")"
   ]
  },
  {
   "cell_type": "code",
   "execution_count": 18,
   "id": "e2facb0c",
   "metadata": {},
   "outputs": [
    {
     "name": "stdout",
     "output_type": "stream",
     "text": [
      "Execution time: 0.7622 seconds\n",
      "Execution time: 0.8787 seconds\n"
     ]
    }
   ],
   "source": [
    "start = time.perf_counter()\n",
    "# Code to benchmark\n",
    "lst = [i for i in rng]\n",
    "end = time.perf_counter()\n",
    "\n",
    "print(f\"Execution time: {end - start:.4f} seconds\")\n",
    "\n",
    "lst = []\n",
    "start = time.perf_counter()\n",
    "# Code to benchmark\n",
    "for i in rng:\n",
    "    lst.append(i)\n",
    "end = time.perf_counter()\n",
    "\n",
    "print(f\"Execution time: {end - start:.4f} seconds\")"
   ]
  },
  {
   "cell_type": "code",
   "execution_count": null,
   "id": "97264954",
   "metadata": {},
   "outputs": [],
   "source": []
  }
 ],
 "metadata": {
  "kernelspec": {
   "display_name": ".venv",
   "language": "python",
   "name": "python3"
  },
  "language_info": {
   "codemirror_mode": {
    "name": "ipython",
    "version": 3
   },
   "file_extension": ".py",
   "mimetype": "text/x-python",
   "name": "python",
   "nbconvert_exporter": "python",
   "pygments_lexer": "ipython3",
   "version": "3.11.9"
  }
 },
 "nbformat": 4,
 "nbformat_minor": 5
}
