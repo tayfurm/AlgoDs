{
 "cells": [
  {
   "cell_type": "code",
   "execution_count": 19,
   "id": "0c87f9b4",
   "metadata": {},
   "outputs": [
    {
     "name": "stdout",
     "output_type": "stream",
     "text": [
      "1.Upper: THIS IS AN EXAMPLE STRING. HELLO WORLD.\n",
      "2.Lower: this is an example string. hello world.\n",
      "3.Title Case: This Is An Example String. Hello World.\n",
      "4. replace: This is an example string. Hello world.\n",
      "5.All words splitted: ['This', 'is', 'an', 'example', 'string.', 'Hello', 'world.']\n",
      "All sentences splitted: ['This is an example string', ' Hello world', '']\n",
      "6.Number of senteces: 2\n",
      "7. Fruits: apple,banana,strawberry\n",
      "8.Centered:                               This is an example string. Hello world.                               \n",
      "9. Centered after strip: : This is an example string. Hello world.\n",
      "10. index of Hello is: 27\n"
     ]
    }
   ],
   "source": [
    "s = \"This is an example string. Hello world.\"\n",
    "fruits = [\"apple\", \"banana\", \"strawberry\"]\n",
    "template = \"Hi, my name is {name}. I am {age} years old.\"\n",
    "\n",
    "print(\"1.Upper:\", s.upper())\n",
    "print(\"2.Lower:\", s.lower())\n",
    "print(\"3.Title Case:\", s.title())\n",
    "print(\"4. replace:\", s.replace(\"Hello:\", \"Hi\"))\n",
    "print(\"5.All words splitted:\", s.split())\n",
    "print(\"All sentences splitted:\", s.split(\".\"))\n",
    "print(\"6.Number of senteces:\", s.count(\".\"))\n",
    "print(\"7. Fruits:\", \",\".join(fruits))\n",
    "centered = s.center(100)\n",
    "print(\"8.Centered:\", centered)\n",
    "print(\"9. Centered after strip: :\", centered.strip())\n",
    "print(\"10. index of Hello is:\", s.index(\"Hello\"))"
   ]
  },
  {
   "cell_type": "code",
   "execution_count": 45,
   "id": "b6593ec9",
   "metadata": {},
   "outputs": [
    {
     "name": "stdout",
     "output_type": "stream",
     "text": [
      "11. index of Hellow using search is: 27\n",
      "12. Sentence starts with Hellow: False\n",
      "12. Sentence starts with This: True\n",
      "13. Sentence ends with Hellow: False\n",
      "13. Sentence ends with This: True\n",
      "14. Format: Hi, my name is Ali:. I am 49 years old.\n",
      "15. reverse: There is no such a thing but you can do it with a slicing trick: .dlrow olleH .gnirts elpmaxe na si sihT\n",
      "16. Last occuracnce of .: 38\n"
     ]
    }
   ],
   "source": [
    "print(\"11. index of Hellow using search is:\", s.find(\"Hello\"))\n",
    "print(\"12. Sentence starts with Hellow:\", s.startswith(\"Hello\"))\n",
    "print(\"12. Sentence starts with This:\", s.startswith(\"This\"))\n",
    "print(\"13. Sentence ends with Hellow:\", s.endswith(\"string.\"))\n",
    "print(\"13. Sentence ends with This:\", s.endswith(\"world.\"))\n",
    "print(\"14. Format:\",  template.format(name = \"Ali:\", age = 49))\n",
    "print(\"15. reverse:\", \"There is no such a thing but you can do it with a slicing trick:\",  s[::-1])\n",
    "print(\"16. Last occuracnce of .:\", s.rfind(\".\"))"
   ]
  },
  {
   "cell_type": "code",
   "execution_count": 40,
   "id": "6f931ac4",
   "metadata": {},
   "outputs": [
    {
     "name": "stdout",
     "output_type": "stream",
     "text": [
      "17. 12.5a isalnum: False\n",
      "17. 125a isalnum: True\n",
      "18. sentece is alpha: False\n",
      "18. sentece without dots is alpha: False\n",
      "18. sentece without dots and whitespace is alpha: True\n",
      "19. 12.5 isnumeric: False\n",
      "20. 12.5 isdigit: False\n",
      "21. 12.5 isdecimal: False\n",
      "19. -12 isnumeric: False\n",
      "20. -12 isdigit: False\n",
      "21. -12 isdecimal: False\n",
      "19. 12 isnumeric: True\n",
      "20. 12 isdigit: True\n",
      "21. 12 isdecimal: True\n",
      "19. 12² isnumeric: True\n",
      "20. 12² isdigit: True\n",
      "21. 12² isdecimal: False\n",
      "19. 12¾ isnumeric: True\n",
      "20. 12¾ isdigit: False\n",
      "21. 12¾ isdecimal: False\n"
     ]
    }
   ],
   "source": [
    "print(\"17. 12.5a isalnum:\", \"12.5a\".isalnum())\n",
    "print(\"17. 125a isalnum:\", \"125a\".isalnum())\n",
    "print(\"18. sentece is alpha:\", s.isalpha())\n",
    "print(\"18. sentece without dots is alpha:\", s.replace(\".\", \"\").isalpha())\n",
    "print(\"18. sentece without dots and whitespace is alpha:\", s.replace(\".\", \"\").replace(\" \",\"\") .isalpha())\n",
    "print(\"19. 12.5 isnumeric:\", \"12.5\".isnumeric())\n",
    "print(\"20. 12.5 isdigit:\", \"12.5\".isdigit())\n",
    "print(\"21. 12.5 isdecimal:\", \"12.5\".isdecimal())\n",
    "\n",
    "print(\"19. -12 isnumeric:\", \"-12\".isnumeric())\n",
    "print(\"20. -12 isdigit:\", \"-12\".isdigit())\n",
    "print(\"21. -12 isdecimal:\", \"-12\".isdecimal())\n",
    "\n",
    "print(\"19. 12 isnumeric:\", \"12\".isnumeric())\n",
    "print(\"20. 12 isdigit:\", \"12\".isdigit())\n",
    "print(\"21. 12 isdecimal:\", \"12\".isdecimal())\n",
    "\n",
    "print(\"19. 12² isnumeric:\", \"12²\".isnumeric())\n",
    "print(\"20. 12² isdigit:\", \"12²\".isdigit())\n",
    "print(\"21. 12² isdecimal:\", \"12²\".isdecimal())\n",
    "\n",
    "print(\"19. 12¾ isnumeric:\", \"12¾\".isnumeric())\n",
    "print(\"20. 12¾ isdigit:\", \"12¾\".isdigit())\n",
    "print(\"21. 12¾ isdecimal:\", \"12¾\".isdecimal())\n"
   ]
  }
 ],
 "metadata": {
  "kernelspec": {
   "display_name": ".venv",
   "language": "python",
   "name": "python3"
  },
  "language_info": {
   "codemirror_mode": {
    "name": "ipython",
    "version": 3
   },
   "file_extension": ".py",
   "mimetype": "text/x-python",
   "name": "python",
   "nbconvert_exporter": "python",
   "pygments_lexer": "ipython3",
   "version": "3.11.9"
  }
 },
 "nbformat": 4,
 "nbformat_minor": 5
}
