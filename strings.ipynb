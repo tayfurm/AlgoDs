{
 "cells": [
  {
   "cell_type": "code",
   "execution_count": 2,
   "id": "f06e860c",
   "metadata": {},
   "outputs": [],
   "source": [
    "s = \"Ankara\""
   ]
  },
  {
   "cell_type": "code",
   "execution_count": 5,
   "id": "7b91953f",
   "metadata": {},
   "outputs": [
    {
     "name": "stdout",
     "output_type": "stream",
     "text": [
      "ANKARA\n"
     ]
    }
   ],
   "source": [
    "upper = s.upper()\n",
    "print(upper)"
   ]
  },
  {
   "cell_type": "code",
   "execution_count": 7,
   "id": "59306ac7",
   "metadata": {},
   "outputs": [
    {
     "name": "stdout",
     "output_type": "stream",
     "text": [
      "ankara\n"
     ]
    }
   ],
   "source": [
    "#lower\n",
    "print(s.lower())"
   ]
  },
  {
   "cell_type": "code",
   "execution_count": 9,
   "id": "0217d8f4",
   "metadata": {},
   "outputs": [
    {
     "name": "stdout",
     "output_type": "stream",
     "text": [
      "  White space  \n",
      "No white space\n"
     ]
    }
   ],
   "source": [
    "# remove white space\n",
    "print(\"  White space  \")\n",
    "print(\"  No white space  \".strip())"
   ]
  },
  {
   "cell_type": "code",
   "execution_count": 11,
   "id": "4057502e",
   "metadata": {},
   "outputs": [
    {
     "name": "stdout",
     "output_type": "stream",
     "text": [
      "Kapkara\n"
     ]
    }
   ],
   "source": [
    "#replace\n",
    "print(\"Ankara\".replace(\"An\", \"Kap\"))"
   ]
  },
  {
   "cell_type": "code",
   "execution_count": 18,
   "id": "cfb0a9db",
   "metadata": {},
   "outputs": [
    {
     "name": "stdout",
     "output_type": "stream",
     "text": [
      "Words: ['This', 'is', 'a', 'sentence.']\n",
      "Split by '.': ['This is a sentence', '']\n"
     ]
    }
   ],
   "source": [
    "#split\n",
    "sentence = \"This is a sentence.\"\n",
    "print(\"Words:\", sentence.split())\n",
    "\n",
    "print(\"Split by '.':\", sentence.split(\".\"))"
   ]
  },
  {
   "cell_type": "code",
   "execution_count": null,
   "id": "00330def",
   "metadata": {},
   "outputs": [],
   "source": []
  }
 ],
 "metadata": {
  "kernelspec": {
   "display_name": ".venv",
   "language": "python",
   "name": "python3"
  },
  "language_info": {
   "codemirror_mode": {
    "name": "ipython",
    "version": 3
   },
   "file_extension": ".py",
   "mimetype": "text/x-python",
   "name": "python",
   "nbconvert_exporter": "python",
   "pygments_lexer": "ipython3",
   "version": "3.11.9"
  }
 },
 "nbformat": 4,
 "nbformat_minor": 5
}
