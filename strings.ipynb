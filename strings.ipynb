{
 "cells": [
  {
   "cell_type": "code",
   "execution_count": 19,
   "id": "f06e860c",
   "metadata": {},
   "outputs": [],
   "source": [
    "s = \"Ankara\""
   ]
  },
  {
   "cell_type": "code",
   "execution_count": 20,
   "id": "7b91953f",
   "metadata": {},
   "outputs": [
    {
     "name": "stdout",
     "output_type": "stream",
     "text": [
      "ANKARA\n"
     ]
    }
   ],
   "source": [
    "upper = s.upper()\n",
    "print(upper)"
   ]
  },
  {
   "cell_type": "code",
   "execution_count": 21,
   "id": "59306ac7",
   "metadata": {},
   "outputs": [
    {
     "name": "stdout",
     "output_type": "stream",
     "text": [
      "ankara\n"
     ]
    }
   ],
   "source": [
    "#lower\n",
    "print(s.lower())"
   ]
  },
  {
   "cell_type": "code",
   "execution_count": 22,
   "id": "0217d8f4",
   "metadata": {},
   "outputs": [
    {
     "name": "stdout",
     "output_type": "stream",
     "text": [
      "  White space  \n",
      "No white space\n"
     ]
    }
   ],
   "source": [
    "# remove white space\n",
    "print(\"  White space  \")\n",
    "print(\"  No white space  \".strip())"
   ]
  },
  {
   "cell_type": "code",
   "execution_count": 23,
   "id": "4057502e",
   "metadata": {},
   "outputs": [
    {
     "name": "stdout",
     "output_type": "stream",
     "text": [
      "Kapkara\n"
     ]
    }
   ],
   "source": [
    "#replace\n",
    "print(\"Ankara\".replace(\"An\", \"Kap\"))"
   ]
  },
  {
   "cell_type": "code",
   "execution_count": 24,
   "id": "cfb0a9db",
   "metadata": {},
   "outputs": [
    {
     "name": "stdout",
     "output_type": "stream",
     "text": [
      "Words: ['This', 'is', 'a', 'sentence.']\n",
      "Split by '.': ['This is a sentence', '']\n"
     ]
    }
   ],
   "source": [
    "#split\n",
    "sentence = \"This is a sentence.\"\n",
    "print(\"Words:\", sentence.split())\n",
    "\n",
    "print(\"Split by '.':\", sentence.split(\".\"))"
   ]
  },
  {
   "cell_type": "code",
   "execution_count": 30,
   "id": "00330def",
   "metadata": {},
   "outputs": [
    {
     "name": "stdout",
     "output_type": "stream",
     "text": [
      "Example: This is a sentence.\n"
     ]
    }
   ],
   "source": [
    "#concatanating\n",
    "print(f\"Example: {sentence}\")\n",
    "# or just use plus sign"
   ]
  },
  {
   "cell_type": "code",
   "execution_count": 31,
   "id": "f9a59e80",
   "metadata": {},
   "outputs": [
    {
     "name": "stdout",
     "output_type": "stream",
     "text": [
      "You can take the pi as 3.14\n"
     ]
    }
   ],
   "source": [
    "#Format string with modifiers\n",
    "import math\n",
    "print(f\"You can take the pi as {math.pi:.2f}\")"
   ]
  }
 ],
 "metadata": {
  "kernelspec": {
   "display_name": ".venv",
   "language": "python",
   "name": "python3"
  },
  "language_info": {
   "codemirror_mode": {
    "name": "ipython",
    "version": 3
   },
   "file_extension": ".py",
   "mimetype": "text/x-python",
   "name": "python",
   "nbconvert_exporter": "python",
   "pygments_lexer": "ipython3",
   "version": "3.11.9"
  }
 },
 "nbformat": 4,
 "nbformat_minor": 5
}
