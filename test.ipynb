{
 "cells": [
  {
   "cell_type": "code",
   "execution_count": null,
   "id": "5914c68c",
   "metadata": {},
   "outputs": [],
   "source": [
    "people = [\n",
    "    {\"name\": \"Alice\", \"age\": 30},\n",
    "    {\"name\": \"Bob\", \"age\": 25},\n",
    "    {\"name\": \"Charlie\", \"age\": 35}\n",
    "]\n",
    "\n",
    "people.sort(key=lambda person: person[\"age\"])\n",
    "print(people)"
   ]
  },
  {
   "cell_type": "code",
   "execution_count": null,
   "id": "bafe1ea5",
   "metadata": {},
   "outputs": [],
   "source": [
    "print(\"Sorted by age:\")\n",
    "for person in people:\n",
    "    print(f\"{person['name']} is {person['age']} years old.\")"
   ]
  },
  {
   "cell_type": "code",
   "execution_count": null,
   "id": "9c81aeac",
   "metadata": {},
   "outputs": [],
   "source": [
    "from_oldest = sorted(people, key = lambda person: person[\"age\"], reverse=True)\n",
    "print(\"Sorted by age (from oldest to youngest):\")\n",
    "for person in from_oldest:\n",
    "    print(f\"{person['name']} is {person['age']} years old.\")"
   ]
  },
  {
   "cell_type": "code",
   "execution_count": 10,
   "id": "e26eff79",
   "metadata": {},
   "outputs": [
    {
     "name": "stdout",
     "output_type": "stream",
     "text": [
      "[5, 4, 6, 3, 7, 2, 8, 1, 9, 10]\n"
     ]
    }
   ],
   "source": [
    "intList = [1,2,3,4,5,6,7,8,9,10]\n",
    "\n",
    "def distance_to_5(input:int):\n",
    "    return input-5 if input > 5 else 5 - input\n",
    "\n",
    "closeTo5 = sorted(intList, key=distance_to_5)\n",
    "\n",
    "print(closeTo5)"
   ]
  }
 ],
 "metadata": {
  "kernelspec": {
   "display_name": ".venv",
   "language": "python",
   "name": "python3"
  },
  "language_info": {
   "codemirror_mode": {
    "name": "ipython",
    "version": 3
   },
   "file_extension": ".py",
   "mimetype": "text/x-python",
   "name": "python",
   "nbconvert_exporter": "python",
   "pygments_lexer": "ipython3",
   "version": "3.11.9"
  }
 },
 "nbformat": 4,
 "nbformat_minor": 5
}
